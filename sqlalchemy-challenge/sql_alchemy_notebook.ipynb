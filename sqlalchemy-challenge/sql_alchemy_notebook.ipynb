{
 "cells": [
  {
   "cell_type": "code",
   "execution_count": 1,
   "metadata": {},
   "outputs": [],
   "source": [
    "# Python SQL toolkit and Object Relational Mapper\n",
    "import sqlalchemy\n",
    "from sqlalchemy.ext.automap import automap_base\n",
    "from sqlalchemy.orm import Session\n",
    "from sqlalchemy import create_engine, func, inspect"
   ]
  },
  {
   "cell_type": "code",
   "execution_count": 2,
   "metadata": {},
   "outputs": [],
   "source": [
    "engine = create_engine(\"sqlite:///Resources/hawaii.sqlite\")"
   ]
  },
  {
   "cell_type": "code",
   "execution_count": 3,
   "metadata": {},
   "outputs": [],
   "source": [
    "# reflect an existing database into a new model\n",
    "Base = automap_base()\n",
    "\n",
    "# reflect the tables\n",
    "Base.prepare(engine, reflect=True)"
   ]
  },
  {
   "cell_type": "code",
   "execution_count": 4,
   "metadata": {},
   "outputs": [],
   "source": [
    "%matplotlib inline\n",
    "from matplotlib import style\n",
    "style.use('fivethirtyeight')\n",
    "import matplotlib.pyplot as plt\n",
    "conn = engine.connect()"
   ]
  },
  {
   "cell_type": "code",
   "execution_count": 5,
   "metadata": {},
   "outputs": [],
   "source": [
    "import numpy as np\n",
    "import pandas as pd"
   ]
  },
  {
   "cell_type": "code",
   "execution_count": 6,
   "metadata": {},
   "outputs": [],
   "source": [
    "import datetime as dt\n",
    "from dateutil.parser import parse\n",
    "import pandas as pd"
   ]
  },
  {
   "cell_type": "markdown",
   "metadata": {},
   "source": [
    "# Reflect Tables into SQLAlchemy ORM"
   ]
  },
  {
   "cell_type": "code",
   "execution_count": 7,
   "metadata": {},
   "outputs": [
    {
     "data": {
      "text/plain": [
       "['measurement', 'station']"
      ]
     },
     "execution_count": 7,
     "metadata": {},
     "output_type": "execute_result"
    }
   ],
   "source": [
    "# We can view all of the classes that automap found\n",
    "Base.classes.keys()"
   ]
  },
  {
   "cell_type": "code",
   "execution_count": 8,
   "metadata": {},
   "outputs": [],
   "source": [
    "# Save references to each table\n",
    "Measurement = Base.classes.measurement\n",
    "Station = Base.classes.station"
   ]
  },
  {
   "cell_type": "code",
   "execution_count": 9,
   "metadata": {},
   "outputs": [],
   "source": [
    "# Create our session (link) from Python to the DB\n",
    "session=Session(engine)"
   ]
  },
  {
   "cell_type": "markdown",
   "metadata": {},
   "source": [
    "# Exploratory Climate Analysis"
   ]
  },
  {
   "cell_type": "code",
   "execution_count": 10,
   "metadata": {},
   "outputs": [],
   "source": [
    "# Design a query to retrieve the last 12 months of precipitation data and plot the results\n",
    "\n",
    "\n",
    "# Use Pandas Plotting with Matplotlib to plot the data\n"
   ]
  },
  {
   "cell_type": "code",
   "execution_count": 11,
   "metadata": {},
   "outputs": [],
   "source": [
    "inspector = inspect(engine)"
   ]
  },
  {
   "cell_type": "code",
   "execution_count": 12,
   "metadata": {},
   "outputs": [
    {
     "data": {
      "text/plain": [
       "['measurement', 'station']"
      ]
     },
     "execution_count": 12,
     "metadata": {},
     "output_type": "execute_result"
    }
   ],
   "source": [
    "inspector.get_table_names()"
   ]
  },
  {
   "cell_type": "code",
   "execution_count": 13,
   "metadata": {},
   "outputs": [
    {
     "name": "stdout",
     "output_type": "stream",
     "text": [
      "id INTEGER\n",
      "station TEXT\n",
      "date TEXT\n",
      "prcp FLOAT\n",
      "tobs FLOAT\n"
     ]
    }
   ],
   "source": [
    "columns = inspector.get_columns('Measurement')\n",
    "for column in columns:\n",
    "    print(column[\"name\"], column[\"type\"])"
   ]
  },
  {
   "cell_type": "code",
   "execution_count": 14,
   "metadata": {},
   "outputs": [
    {
     "name": "stdout",
     "output_type": "stream",
     "text": [
      "id INTEGER\n",
      "station TEXT\n",
      "name TEXT\n",
      "latitude FLOAT\n",
      "longitude FLOAT\n",
      "elevation FLOAT\n"
     ]
    }
   ],
   "source": [
    "columns = inspector.get_columns('Station')\n",
    "for column in columns:\n",
    "    print(column[\"name\"], column[\"type\"])"
   ]
  },
  {
   "cell_type": "markdown",
   "metadata": {},
   "source": [
    "# Part 1"
   ]
  },
  {
   "cell_type": "markdown",
   "metadata": {},
   "source": [
    "# Precipitation Analysis"
   ]
  },
  {
   "cell_type": "code",
   "execution_count": 15,
   "metadata": {},
   "outputs": [],
   "source": [
    "# Calculate the date 1 year ago from the last data point in the database"
   ]
  },
  {
   "cell_type": "code",
   "execution_count": 16,
   "metadata": {},
   "outputs": [
    {
     "name": "stdout",
     "output_type": "stream",
     "text": [
      "('2017-08-23',)\n"
     ]
    }
   ],
   "source": [
    "last_date= session.query(Measurement.date).order_by(Measurement.date.desc()).first()\n",
    "print(last_date)"
   ]
  },
  {
   "cell_type": "code",
   "execution_count": 17,
   "metadata": {},
   "outputs": [
    {
     "data": {
      "text/plain": [
       "sqlalchemy.util._collections.result"
      ]
     },
     "execution_count": 17,
     "metadata": {},
     "output_type": "execute_result"
    }
   ],
   "source": [
    "type(last_date)"
   ]
  },
  {
   "cell_type": "code",
   "execution_count": 18,
   "metadata": {},
   "outputs": [],
   "source": [
    "last_date=dt.datetime(2017, 8, 23)"
   ]
  },
  {
   "cell_type": "code",
   "execution_count": 19,
   "metadata": {},
   "outputs": [
    {
     "data": {
      "text/plain": [
       "datetime.datetime(2016, 8, 23, 0, 0)"
      ]
     },
     "execution_count": 19,
     "metadata": {},
     "output_type": "execute_result"
    }
   ],
   "source": [
    "year_ago = last_date - dt.timedelta(days=365)\n",
    "year_ago"
   ]
  },
  {
   "cell_type": "code",
   "execution_count": 20,
   "metadata": {},
   "outputs": [],
   "source": [
    "# Perform a query to retrieve the data and precipitation scores\n"
   ]
  },
  {
   "cell_type": "code",
   "execution_count": 21,
   "metadata": {},
   "outputs": [],
   "source": [
    "last_year=session.query(Measurement.date, Measurement.prcp).\\\n",
    "    filter(Measurement.date > '2016-08-23').\\\n",
    "    filter(Measurement.date < '2017-08-23').\\\n",
    "    order_by(Measurement.date).all()"
   ]
  },
  {
   "cell_type": "code",
   "execution_count": 22,
   "metadata": {},
   "outputs": [
    {
     "data": {
      "text/plain": [
       "2219"
      ]
     },
     "execution_count": 22,
     "metadata": {},
     "output_type": "execute_result"
    }
   ],
   "source": [
    "#Number of observations in the last year\n",
    "len(last_year)"
   ]
  },
  {
   "cell_type": "code",
   "execution_count": 23,
   "metadata": {},
   "outputs": [],
   "source": [
    "# Save the query results as a Pandas DataFrame and set the index to the date column"
   ]
  },
  {
   "cell_type": "code",
   "execution_count": 24,
   "metadata": {},
   "outputs": [
    {
     "data": {
      "text/html": [
       "<div>\n",
       "<style scoped>\n",
       "    .dataframe tbody tr th:only-of-type {\n",
       "        vertical-align: middle;\n",
       "    }\n",
       "\n",
       "    .dataframe tbody tr th {\n",
       "        vertical-align: top;\n",
       "    }\n",
       "\n",
       "    .dataframe thead th {\n",
       "        text-align: right;\n",
       "    }\n",
       "</style>\n",
       "<table border=\"1\" class=\"dataframe\">\n",
       "  <thead>\n",
       "    <tr style=\"text-align: right;\">\n",
       "      <th></th>\n",
       "      <th>prcp</th>\n",
       "    </tr>\n",
       "    <tr>\n",
       "      <th>date</th>\n",
       "      <th></th>\n",
       "    </tr>\n",
       "  </thead>\n",
       "  <tbody>\n",
       "    <tr>\n",
       "      <th>2016-08-24</th>\n",
       "      <td>0.08</td>\n",
       "    </tr>\n",
       "    <tr>\n",
       "      <th>2016-08-24</th>\n",
       "      <td>2.15</td>\n",
       "    </tr>\n",
       "    <tr>\n",
       "      <th>2016-08-24</th>\n",
       "      <td>2.28</td>\n",
       "    </tr>\n",
       "    <tr>\n",
       "      <th>2016-08-24</th>\n",
       "      <td>NaN</td>\n",
       "    </tr>\n",
       "    <tr>\n",
       "      <th>2016-08-24</th>\n",
       "      <td>1.22</td>\n",
       "    </tr>\n",
       "    <tr>\n",
       "      <th>...</th>\n",
       "      <td>...</td>\n",
       "    </tr>\n",
       "    <tr>\n",
       "      <th>2017-08-21</th>\n",
       "      <td>NaN</td>\n",
       "    </tr>\n",
       "    <tr>\n",
       "      <th>2017-08-21</th>\n",
       "      <td>0.56</td>\n",
       "    </tr>\n",
       "    <tr>\n",
       "      <th>2017-08-22</th>\n",
       "      <td>0.00</td>\n",
       "    </tr>\n",
       "    <tr>\n",
       "      <th>2017-08-22</th>\n",
       "      <td>0.00</td>\n",
       "    </tr>\n",
       "    <tr>\n",
       "      <th>2017-08-22</th>\n",
       "      <td>0.50</td>\n",
       "    </tr>\n",
       "  </tbody>\n",
       "</table>\n",
       "<p>2219 rows × 1 columns</p>\n",
       "</div>"
      ],
      "text/plain": [
       "            prcp\n",
       "date            \n",
       "2016-08-24  0.08\n",
       "2016-08-24  2.15\n",
       "2016-08-24  2.28\n",
       "2016-08-24   NaN\n",
       "2016-08-24  1.22\n",
       "...          ...\n",
       "2017-08-21   NaN\n",
       "2017-08-21  0.56\n",
       "2017-08-22  0.00\n",
       "2017-08-22  0.00\n",
       "2017-08-22  0.50\n",
       "\n",
       "[2219 rows x 1 columns]"
      ]
     },
     "execution_count": 24,
     "metadata": {},
     "output_type": "execute_result"
    }
   ],
   "source": [
    "precip = pd.DataFrame(last_year, columns=['date', 'prcp'])\n",
    "precip.set_index('date', inplace=True, )\n",
    "precip\n"
   ]
  },
  {
   "cell_type": "code",
   "execution_count": 25,
   "metadata": {},
   "outputs": [
    {
     "data": {
      "text/plain": [
       "pandas.core.frame.DataFrame"
      ]
     },
     "execution_count": 25,
     "metadata": {},
     "output_type": "execute_result"
    }
   ],
   "source": [
    "type(precip)"
   ]
  },
  {
   "cell_type": "code",
   "execution_count": 26,
   "metadata": {},
   "outputs": [
    {
     "data": {
      "text/plain": [
       "(2219, 1)"
      ]
     },
     "execution_count": 26,
     "metadata": {},
     "output_type": "execute_result"
    }
   ],
   "source": [
    "precip.shape"
   ]
  },
  {
   "cell_type": "code",
   "execution_count": 27,
   "metadata": {},
   "outputs": [
    {
     "data": {
      "text/plain": [
       "prcp    float64\n",
       "dtype: object"
      ]
     },
     "execution_count": 27,
     "metadata": {},
     "output_type": "execute_result"
    }
   ],
   "source": [
    "# Sort the dataframe by date\n",
    "precip.dtypes"
   ]
  },
  {
   "cell_type": "code",
   "execution_count": 28,
   "metadata": {},
   "outputs": [],
   "source": [
    "# Use Pandas to calcualte the summary statistics for the precipitation data\n",
    "#Replace NaN values with 0, then drop 0 rows \n",
    "precip['prcp'] = precip['prcp'].fillna(1000)\n",
    "precip.drop(precip[precip['prcp']==1000].index, inplace=True)\n"
   ]
  },
  {
   "cell_type": "code",
   "execution_count": 29,
   "metadata": {},
   "outputs": [
    {
     "data": {
      "text/plain": [
       "1088"
      ]
     },
     "execution_count": 29,
     "metadata": {},
     "output_type": "execute_result"
    }
   ],
   "source": [
    "precip.size"
   ]
  },
  {
   "cell_type": "code",
   "execution_count": 30,
   "metadata": {},
   "outputs": [
    {
     "data": {
      "text/html": [
       "<div>\n",
       "<style scoped>\n",
       "    .dataframe tbody tr th:only-of-type {\n",
       "        vertical-align: middle;\n",
       "    }\n",
       "\n",
       "    .dataframe tbody tr th {\n",
       "        vertical-align: top;\n",
       "    }\n",
       "\n",
       "    .dataframe thead th {\n",
       "        text-align: right;\n",
       "    }\n",
       "</style>\n",
       "<table border=\"1\" class=\"dataframe\">\n",
       "  <thead>\n",
       "    <tr style=\"text-align: right;\">\n",
       "      <th></th>\n",
       "      <th>prcp</th>\n",
       "    </tr>\n",
       "    <tr>\n",
       "      <th>date</th>\n",
       "      <th></th>\n",
       "    </tr>\n",
       "  </thead>\n",
       "  <tbody>\n",
       "    <tr>\n",
       "      <th>2016-08-25</th>\n",
       "      <td>0.08</td>\n",
       "    </tr>\n",
       "    <tr>\n",
       "      <th>2016-08-25</th>\n",
       "      <td>0.08</td>\n",
       "    </tr>\n",
       "    <tr>\n",
       "      <th>2016-08-25</th>\n",
       "      <td>0.00</td>\n",
       "    </tr>\n",
       "    <tr>\n",
       "      <th>2016-08-25</th>\n",
       "      <td>0.00</td>\n",
       "    </tr>\n",
       "    <tr>\n",
       "      <th>2016-08-25</th>\n",
       "      <td>0.21</td>\n",
       "    </tr>\n",
       "    <tr>\n",
       "      <th>2016-08-25</th>\n",
       "      <td>0.06</td>\n",
       "    </tr>\n",
       "    <tr>\n",
       "      <th>2016-08-25</th>\n",
       "      <td>0.11</td>\n",
       "    </tr>\n",
       "    <tr>\n",
       "      <th>2016-08-26</th>\n",
       "      <td>0.00</td>\n",
       "    </tr>\n",
       "    <tr>\n",
       "      <th>2016-08-26</th>\n",
       "      <td>0.03</td>\n",
       "    </tr>\n",
       "    <tr>\n",
       "      <th>2016-08-26</th>\n",
       "      <td>0.02</td>\n",
       "    </tr>\n",
       "  </tbody>\n",
       "</table>\n",
       "</div>"
      ],
      "text/plain": [
       "            prcp\n",
       "date            \n",
       "2016-08-25  0.08\n",
       "2016-08-25  0.08\n",
       "2016-08-25  0.00\n",
       "2016-08-25  0.00\n",
       "2016-08-25  0.21\n",
       "2016-08-25  0.06\n",
       "2016-08-25  0.11\n",
       "2016-08-26  0.00\n",
       "2016-08-26  0.03\n",
       "2016-08-26  0.02"
      ]
     },
     "execution_count": 30,
     "metadata": {},
     "output_type": "execute_result"
    }
   ],
   "source": [
    "precip.sort_index(axis = 0)\n",
    "precip.head(10)"
   ]
  },
  {
   "cell_type": "code",
   "execution_count": 31,
   "metadata": {},
   "outputs": [],
   "source": [
    "# Use Pandas Plotting with Matplotlib to plot the data for average daily precipitation"
   ]
  },
  {
   "cell_type": "code",
   "execution_count": 32,
   "metadata": {},
   "outputs": [
    {
     "data": {
      "image/png": "[encoded data removed]",
      "text/plain": [
       "<Figure size 1080x720 with 1 Axes>"
      ]
     },
     "metadata": {},
     "output_type": "display_data"
    }
   ],
   "source": [
    "precip_chart_data=precip.groupby('date').agg({'prcp': ['mean']}).reset_index()\n",
    "precip_chart=precip_chart_data.plot.line(x='date', y='prcp', figsize=(15, 10))\n",
    "precip_chart.get_legend().remove()\n",
    "plt.tight_layout()\n",
    "plt.grid()\n",
    "plt.xticks(rotation=90)\n",
    "plt.title(\"Avg. Daily Precipitation Hawaii\")\n",
    "plt.xlabel(\"Date\")\n",
    "plt.ylabel(\"Inches\")\n",
    "plt.grid()\n"
   ]
  },
  {
   "cell_type": "code",
   "execution_count": 33,
   "metadata": {},
   "outputs": [
    {
     "data": {
      "text/html": [
       "<div>\n",
       "<style scoped>\n",
       "    .dataframe tbody tr th:only-of-type {\n",
       "        vertical-align: middle;\n",
       "    }\n",
       "\n",
       "    .dataframe tbody tr th {\n",
       "        vertical-align: top;\n",
       "    }\n",
       "\n",
       "    .dataframe thead th {\n",
       "        text-align: right;\n",
       "    }\n",
       "</style>\n",
       "<table border=\"1\" class=\"dataframe\">\n",
       "  <thead>\n",
       "    <tr style=\"text-align: right;\">\n",
       "      <th></th>\n",
       "      <th>prcp</th>\n",
       "    </tr>\n",
       "  </thead>\n",
       "  <tbody>\n",
       "    <tr>\n",
       "      <th>count</th>\n",
       "      <td>1088.000000</td>\n",
       "    </tr>\n",
       "    <tr>\n",
       "      <th>mean</th>\n",
       "      <td>0.175818</td>\n",
       "    </tr>\n",
       "    <tr>\n",
       "      <th>min</th>\n",
       "      <td>0.000000</td>\n",
       "    </tr>\n",
       "    <tr>\n",
       "      <th>max</th>\n",
       "      <td>6.250000</td>\n",
       "    </tr>\n",
       "    <tr>\n",
       "      <th>median</th>\n",
       "      <td>0.020000</td>\n",
       "    </tr>\n",
       "    <tr>\n",
       "      <th>sum</th>\n",
       "      <td>191.290000</td>\n",
       "    </tr>\n",
       "  </tbody>\n",
       "</table>\n",
       "</div>"
      ],
      "text/plain": [
       "               prcp\n",
       "count   1088.000000\n",
       "mean       0.175818\n",
       "min        0.000000\n",
       "max        6.250000\n",
       "median     0.020000\n",
       "sum      191.290000"
      ]
     },
     "execution_count": 33,
     "metadata": {},
     "output_type": "execute_result"
    }
   ],
   "source": [
    "#Afterwards create summary statistics for precipitation.\n",
    "precip.reset_index().agg({'prcp': ['count', 'mean', 'min','max', 'median', 'sum']})"
   ]
  },
  {
   "cell_type": "markdown",
   "metadata": {},
   "source": [
    "# Station Analysis"
   ]
  },
  {
   "cell_type": "code",
   "execution_count": 34,
   "metadata": {},
   "outputs": [],
   "source": [
    "station_extract=session.query(Station.station, Station.name).\\\n",
    "    order_by(Station.name).all()"
   ]
  },
  {
   "cell_type": "code",
   "execution_count": 35,
   "metadata": {},
   "outputs": [
    {
     "name": "stdout",
     "output_type": "stream",
     "text": [
      "('USC00511918', 'HONOLULU OBSERVATORY 702.2, HI US')\n",
      "('USC00513117', 'KANEOHE 838.1, HI US')\n",
      "('USC00514830', 'KUALOA RANCH HEADQUARTERS 886.9, HI US')\n",
      "('USC00516128', 'MANOA LYON ARBO 785.2, HI US')\n",
      "('USC00517948', 'PEARL CITY, HI US')\n",
      "('USC00518838', 'UPPER WAHIAWA 874.3, HI US')\n",
      "('USC00519281', 'WAIHEE 837.5, HI US')\n",
      "('USC00519397', 'WAIKIKI 717.2, HI US')\n",
      "('USC00519523', 'WAIMANALO EXPERIMENTAL FARM, HI US')\n"
     ]
    }
   ],
   "source": [
    "#station_extract= pd.read_sql(\"SELECT DISTINCT * FROM Station\", conn)\n",
    "for record in station_extract:\n",
    "    print(record)"
   ]
  },
  {
   "cell_type": "code",
   "execution_count": 36,
   "metadata": {},
   "outputs": [],
   "source": [
    "# Design a query to show how many stations are available in this dataset?\n",
    "#station_list=station_extract.station.unique()\n",
    "#len(station_list)\n"
   ]
  },
  {
   "cell_type": "code",
   "execution_count": 37,
   "metadata": {},
   "outputs": [
    {
     "name": "stdout",
     "output_type": "stream",
     "text": [
      "9\n"
     ]
    }
   ],
   "source": [
    "station_count=session.query(func.count(Station.name)).\\\n",
    "   distinct().scalar()\n",
    "print(station_count)"
   ]
  },
  {
   "cell_type": "code",
   "execution_count": 38,
   "metadata": {},
   "outputs": [
    {
     "data": {
      "text/html": [
       "<div>\n",
       "<style scoped>\n",
       "    .dataframe tbody tr th:only-of-type {\n",
       "        vertical-align: middle;\n",
       "    }\n",
       "\n",
       "    .dataframe tbody tr th {\n",
       "        vertical-align: top;\n",
       "    }\n",
       "\n",
       "    .dataframe thead th {\n",
       "        text-align: right;\n",
       "    }\n",
       "</style>\n",
       "<table border=\"1\" class=\"dataframe\">\n",
       "  <thead>\n",
       "    <tr style=\"text-align: right;\">\n",
       "      <th></th>\n",
       "      <th>name</th>\n",
       "      <th>station</th>\n",
       "      <th>date</th>\n",
       "      <th>tobs</th>\n",
       "    </tr>\n",
       "  </thead>\n",
       "  <tbody>\n",
       "    <tr>\n",
       "      <th>0</th>\n",
       "      <td>WAIKIKI 717.2, HI US</td>\n",
       "      <td>USC00519397</td>\n",
       "      <td>2017-08-23</td>\n",
       "      <td>81.0</td>\n",
       "    </tr>\n",
       "    <tr>\n",
       "      <th>1</th>\n",
       "      <td>KUALOA RANCH HEADQUARTERS 886.9, HI US</td>\n",
       "      <td>USC00514830</td>\n",
       "      <td>2017-08-23</td>\n",
       "      <td>82.0</td>\n",
       "    </tr>\n",
       "    <tr>\n",
       "      <th>2</th>\n",
       "      <td>WAIMANALO EXPERIMENTAL FARM, HI US</td>\n",
       "      <td>USC00519523</td>\n",
       "      <td>2017-08-23</td>\n",
       "      <td>82.0</td>\n",
       "    </tr>\n",
       "    <tr>\n",
       "      <th>3</th>\n",
       "      <td>MANOA LYON ARBO 785.2, HI US</td>\n",
       "      <td>USC00516128</td>\n",
       "      <td>2017-08-23</td>\n",
       "      <td>76.0</td>\n",
       "    </tr>\n",
       "    <tr>\n",
       "      <th>4</th>\n",
       "      <td>WAIKIKI 717.2, HI US</td>\n",
       "      <td>USC00519397</td>\n",
       "      <td>2017-08-22</td>\n",
       "      <td>82.0</td>\n",
       "    </tr>\n",
       "    <tr>\n",
       "      <th>...</th>\n",
       "      <td>...</td>\n",
       "      <td>...</td>\n",
       "      <td>...</td>\n",
       "      <td>...</td>\n",
       "    </tr>\n",
       "    <tr>\n",
       "      <th>19545</th>\n",
       "      <td>UPPER WAHIAWA 874.3, HI US</td>\n",
       "      <td>USC00518838</td>\n",
       "      <td>2010-01-01</td>\n",
       "      <td>72.0</td>\n",
       "    </tr>\n",
       "    <tr>\n",
       "      <th>19546</th>\n",
       "      <td>WAIMANALO EXPERIMENTAL FARM, HI US</td>\n",
       "      <td>USC00519523</td>\n",
       "      <td>2010-01-01</td>\n",
       "      <td>75.0</td>\n",
       "    </tr>\n",
       "    <tr>\n",
       "      <th>19547</th>\n",
       "      <td>WAIHEE 837.5, HI US</td>\n",
       "      <td>USC00519281</td>\n",
       "      <td>2010-01-01</td>\n",
       "      <td>70.0</td>\n",
       "    </tr>\n",
       "    <tr>\n",
       "      <th>19548</th>\n",
       "      <td>HONOLULU OBSERVATORY 702.2, HI US</td>\n",
       "      <td>USC00511918</td>\n",
       "      <td>2010-01-01</td>\n",
       "      <td>66.0</td>\n",
       "    </tr>\n",
       "    <tr>\n",
       "      <th>19549</th>\n",
       "      <td>MANOA LYON ARBO 785.2, HI US</td>\n",
       "      <td>USC00516128</td>\n",
       "      <td>2010-01-01</td>\n",
       "      <td>73.0</td>\n",
       "    </tr>\n",
       "  </tbody>\n",
       "</table>\n",
       "<p>19550 rows × 4 columns</p>\n",
       "</div>"
      ],
      "text/plain": [
       "                                         name      station        date  tobs\n",
       "0                        WAIKIKI 717.2, HI US  USC00519397  2017-08-23  81.0\n",
       "1      KUALOA RANCH HEADQUARTERS 886.9, HI US  USC00514830  2017-08-23  82.0\n",
       "2          WAIMANALO EXPERIMENTAL FARM, HI US  USC00519523  2017-08-23  82.0\n",
       "3                MANOA LYON ARBO 785.2, HI US  USC00516128  2017-08-23  76.0\n",
       "4                        WAIKIKI 717.2, HI US  USC00519397  2017-08-22  82.0\n",
       "...                                       ...          ...         ...   ...\n",
       "19545              UPPER WAHIAWA 874.3, HI US  USC00518838  2010-01-01  72.0\n",
       "19546      WAIMANALO EXPERIMENTAL FARM, HI US  USC00519523  2010-01-01  75.0\n",
       "19547                     WAIHEE 837.5, HI US  USC00519281  2010-01-01  70.0\n",
       "19548       HONOLULU OBSERVATORY 702.2, HI US  USC00511918  2010-01-01  66.0\n",
       "19549            MANOA LYON ARBO 785.2, HI US  USC00516128  2010-01-01  73.0\n",
       "\n",
       "[19550 rows x 4 columns]"
      ]
     },
     "execution_count": 38,
     "metadata": {},
     "output_type": "execute_result"
    }
   ],
   "source": [
    "station_data=pd.DataFrame(session.query(Station.name, Station.station, Measurement.date, Measurement.tobs).\\\n",
    "    filter(Measurement.station == Station.station).\\\n",
    "    #filter(Measurement.date > '2016-08-23').\\\n",
    "    #filter(Measurement.date < '2017-08-23').\\\n",
    "    order_by(Measurement.date.desc()).all())\n",
    "station_data"
   ]
  },
  {
   "cell_type": "code",
   "execution_count": 39,
   "metadata": {},
   "outputs": [
    {
     "data": {
      "text/html": [
       "<div>\n",
       "<style scoped>\n",
       "    .dataframe tbody tr th:only-of-type {\n",
       "        vertical-align: middle;\n",
       "    }\n",
       "\n",
       "    .dataframe tbody tr th {\n",
       "        vertical-align: top;\n",
       "    }\n",
       "\n",
       "    .dataframe thead th {\n",
       "        text-align: right;\n",
       "    }\n",
       "</style>\n",
       "<table border=\"1\" class=\"dataframe\">\n",
       "  <thead>\n",
       "    <tr style=\"text-align: right;\">\n",
       "      <th></th>\n",
       "      <th>name</th>\n",
       "      <th>count</th>\n",
       "      <th>mean</th>\n",
       "      <th>min</th>\n",
       "      <th>max</th>\n",
       "      <th>median</th>\n",
       "    </tr>\n",
       "  </thead>\n",
       "  <tbody>\n",
       "    <tr>\n",
       "      <th>6</th>\n",
       "      <td>WAIHEE 837.5, HI US</td>\n",
       "      <td>2772</td>\n",
       "      <td>71.663781</td>\n",
       "      <td>54.0</td>\n",
       "      <td>85.0</td>\n",
       "      <td>72.0</td>\n",
       "    </tr>\n",
       "    <tr>\n",
       "      <th>7</th>\n",
       "      <td>WAIKIKI 717.2, HI US</td>\n",
       "      <td>2724</td>\n",
       "      <td>74.553231</td>\n",
       "      <td>56.0</td>\n",
       "      <td>87.0</td>\n",
       "      <td>76.0</td>\n",
       "    </tr>\n",
       "    <tr>\n",
       "      <th>1</th>\n",
       "      <td>KANEOHE 838.1, HI US</td>\n",
       "      <td>2709</td>\n",
       "      <td>72.689184</td>\n",
       "      <td>59.0</td>\n",
       "      <td>85.0</td>\n",
       "      <td>73.0</td>\n",
       "    </tr>\n",
       "    <tr>\n",
       "      <th>8</th>\n",
       "      <td>WAIMANALO EXPERIMENTAL FARM, HI US</td>\n",
       "      <td>2669</td>\n",
       "      <td>74.543649</td>\n",
       "      <td>56.0</td>\n",
       "      <td>85.0</td>\n",
       "      <td>75.0</td>\n",
       "    </tr>\n",
       "    <tr>\n",
       "      <th>3</th>\n",
       "      <td>MANOA LYON ARBO 785.2, HI US</td>\n",
       "      <td>2612</td>\n",
       "      <td>70.915008</td>\n",
       "      <td>58.0</td>\n",
       "      <td>84.0</td>\n",
       "      <td>71.0</td>\n",
       "    </tr>\n",
       "    <tr>\n",
       "      <th>2</th>\n",
       "      <td>KUALOA RANCH HEADQUARTERS 886.9, HI US</td>\n",
       "      <td>2202</td>\n",
       "      <td>74.873297</td>\n",
       "      <td>58.0</td>\n",
       "      <td>85.0</td>\n",
       "      <td>75.0</td>\n",
       "    </tr>\n",
       "    <tr>\n",
       "      <th>0</th>\n",
       "      <td>HONOLULU OBSERVATORY 702.2, HI US</td>\n",
       "      <td>1979</td>\n",
       "      <td>71.615968</td>\n",
       "      <td>53.0</td>\n",
       "      <td>87.0</td>\n",
       "      <td>72.0</td>\n",
       "    </tr>\n",
       "    <tr>\n",
       "      <th>4</th>\n",
       "      <td>PEARL CITY, HI US</td>\n",
       "      <td>1372</td>\n",
       "      <td>74.684402</td>\n",
       "      <td>58.0</td>\n",
       "      <td>87.0</td>\n",
       "      <td>75.0</td>\n",
       "    </tr>\n",
       "    <tr>\n",
       "      <th>5</th>\n",
       "      <td>UPPER WAHIAWA 874.3, HI US</td>\n",
       "      <td>511</td>\n",
       "      <td>72.724070</td>\n",
       "      <td>58.0</td>\n",
       "      <td>83.0</td>\n",
       "      <td>73.0</td>\n",
       "    </tr>\n",
       "  </tbody>\n",
       "</table>\n",
       "</div>"
      ],
      "text/plain": [
       "                                     name  count       mean   min   max  \\\n",
       "6                     WAIHEE 837.5, HI US   2772  71.663781  54.0  85.0   \n",
       "7                    WAIKIKI 717.2, HI US   2724  74.553231  56.0  87.0   \n",
       "1                    KANEOHE 838.1, HI US   2709  72.689184  59.0  85.0   \n",
       "8      WAIMANALO EXPERIMENTAL FARM, HI US   2669  74.543649  56.0  85.0   \n",
       "3            MANOA LYON ARBO 785.2, HI US   2612  70.915008  58.0  84.0   \n",
       "2  KUALOA RANCH HEADQUARTERS 886.9, HI US   2202  74.873297  58.0  85.0   \n",
       "0       HONOLULU OBSERVATORY 702.2, HI US   1979  71.615968  53.0  87.0   \n",
       "4                       PEARL CITY, HI US   1372  74.684402  58.0  87.0   \n",
       "5              UPPER WAHIAWA 874.3, HI US    511  72.724070  58.0  83.0   \n",
       "\n",
       "   median  \n",
       "6    72.0  \n",
       "7    76.0  \n",
       "1    73.0  \n",
       "8    75.0  \n",
       "3    71.0  \n",
       "2    75.0  \n",
       "0    72.0  \n",
       "4    75.0  \n",
       "5    73.0  "
      ]
     },
     "execution_count": 39,
     "metadata": {},
     "output_type": "execute_result"
    }
   ],
   "source": [
    "# What are the most active stations? (i.e. what stations have the most rows)?\n",
    "# List the stations and the counts in descending order.\n",
    "station_summary=station_data.groupby('name').agg({'tobs': ['count', 'mean', 'min','max', 'median']})\n",
    "station_summary.columns = ['count', 'mean', 'min','max', 'median']\n",
    "station_summary=station_summary.reset_index()\n",
    "station_summary.sort_values('count', inplace=True, ascending=False)\n",
    "station_summary"
   ]
  },
  {
   "cell_type": "code",
   "execution_count": 40,
   "metadata": {},
   "outputs": [
    {
     "data": {
      "text/plain": [
       "str"
      ]
     },
     "execution_count": 40,
     "metadata": {},
     "output_type": "execute_result"
    }
   ],
   "source": [
    "    station_data1=session.query(Station.station).\\\n",
    "    filter(Measurement.station == Station.station).\\\n",
    "    group_by(Station.station).\\\n",
    "    order_by(func.count(Measurement.tobs).desc()).first()\n",
    "    \n",
    "    #Find station with most observations, by sorting in descending order, putting into list and takin gfirst element from list\n",
    "    filter_set=list(station_data1)\n",
    "    #tuples_filtered = [tup for tup in tuples if tup[0] in filter_set]\n",
    "    #tuples_filtered\n",
    "    max_station=str(filter_set[0])\n",
    "    max_station\n",
    "    type(max_station)"
   ]
  },
  {
   "cell_type": "code",
   "execution_count": 41,
   "metadata": {},
   "outputs": [
    {
     "data": {
      "text/plain": [
       "[('WAIHEE 837.5, HI US', 'USC00519281', '2017-08-18', 79.0),\n",
       " ('WAIHEE 837.5, HI US', 'USC00519281', '2017-08-17', 76.0),\n",
       " ('WAIHEE 837.5, HI US', 'USC00519281', '2017-08-16', 76.0),\n",
       " ('WAIHEE 837.5, HI US', 'USC00519281', '2017-08-15', 77.0),\n",
       " ('WAIHEE 837.5, HI US', 'USC00519281', '2017-08-14', 77.0),\n",
       " ('WAIHEE 837.5, HI US', 'USC00519281', '2017-08-13', 77.0),\n",
       " ('WAIHEE 837.5, HI US', 'USC00519281', '2017-08-06', 83.0),\n",
       " ('WAIHEE 837.5, HI US', 'USC00519281', '2017-08-05', 82.0),\n",
       " ('WAIHEE 837.5, HI US', 'USC00519281', '2017-08-04', 77.0),\n",
       " ('WAIHEE 837.5, HI US', 'USC00519281', '2017-07-31', 76.0),\n",
       " ('WAIHEE 837.5, HI US', 'USC00519281', '2017-07-30', 81.0),\n",
       " ('WAIHEE 837.5, HI US', 'USC00519281', '2017-07-29', 82.0),\n",
       " ('WAIHEE 837.5, HI US', 'USC00519281', '2017-07-28', 81.0),\n",
       " ('WAIHEE 837.5, HI US', 'USC00519281', '2017-07-27', 76.0),\n",
       " ('WAIHEE 837.5, HI US', 'USC00519281', '2017-07-26', 75.0),\n",
       " ('WAIHEE 837.5, HI US', 'USC00519281', '2017-07-25', 77.0),\n",
       " ('WAIHEE 837.5, HI US', 'USC00519281', '2017-07-24', 75.0),\n",
       " ('WAIHEE 837.5, HI US', 'USC00519281', '2017-07-23', 82.0),\n",
       " ('WAIHEE 837.5, HI US', 'USC00519281', '2017-07-22', 77.0),\n",
       " ('WAIHEE 837.5, HI US', 'USC00519281', '2017-07-21', 77.0),\n",
       " ('WAIHEE 837.5, HI US', 'USC00519281', '2017-07-20', 77.0),\n",
       " ('WAIHEE 837.5, HI US', 'USC00519281', '2017-07-19', 76.0),\n",
       " ('WAIHEE 837.5, HI US', 'USC00519281', '2017-07-18', 76.0),\n",
       " ('WAIHEE 837.5, HI US', 'USC00519281', '2017-07-17', 76.0),\n",
       " ('WAIHEE 837.5, HI US', 'USC00519281', '2017-07-16', 80.0),\n",
       " ('WAIHEE 837.5, HI US', 'USC00519281', '2017-07-15', 80.0),\n",
       " ('WAIHEE 837.5, HI US', 'USC00519281', '2017-07-14', 76.0),\n",
       " ('WAIHEE 837.5, HI US', 'USC00519281', '2017-07-13', 74.0),\n",
       " ('WAIHEE 837.5, HI US', 'USC00519281', '2017-07-12', 74.0),\n",
       " ('WAIHEE 837.5, HI US', 'USC00519281', '2017-07-11', 72.0),\n",
       " ('WAIHEE 837.5, HI US', 'USC00519281', '2017-07-10', 69.0),\n",
       " ('WAIHEE 837.5, HI US', 'USC00519281', '2017-07-09', 78.0),\n",
       " ('WAIHEE 837.5, HI US', 'USC00519281', '2017-07-08', 78.0),\n",
       " ('WAIHEE 837.5, HI US', 'USC00519281', '2017-07-07', 75.0),\n",
       " ('WAIHEE 837.5, HI US', 'USC00519281', '2017-07-06', 74.0),\n",
       " ('WAIHEE 837.5, HI US', 'USC00519281', '2017-07-05', 77.0),\n",
       " ('WAIHEE 837.5, HI US', 'USC00519281', '2017-07-04', 78.0),\n",
       " ('WAIHEE 837.5, HI US', 'USC00519281', '2017-07-03', 76.0),\n",
       " ('WAIHEE 837.5, HI US', 'USC00519281', '2017-07-02', 81.0),\n",
       " ('WAIHEE 837.5, HI US', 'USC00519281', '2017-07-01', 79.0),\n",
       " ('WAIHEE 837.5, HI US', 'USC00519281', '2017-06-30', 76.0),\n",
       " ('WAIHEE 837.5, HI US', 'USC00519281', '2017-06-29', 76.0),\n",
       " ('WAIHEE 837.5, HI US', 'USC00519281', '2017-06-28', 77.0),\n",
       " ('WAIHEE 837.5, HI US', 'USC00519281', '2017-06-27', 76.0),\n",
       " ('WAIHEE 837.5, HI US', 'USC00519281', '2017-06-26', 73.0),\n",
       " ('WAIHEE 837.5, HI US', 'USC00519281', '2017-06-25', 71.0),\n",
       " ('WAIHEE 837.5, HI US', 'USC00519281', '2017-06-24', 77.0),\n",
       " ('WAIHEE 837.5, HI US', 'USC00519281', '2017-06-23', 72.0),\n",
       " ('WAIHEE 837.5, HI US', 'USC00519281', '2017-06-22', 72.0),\n",
       " ('WAIHEE 837.5, HI US', 'USC00519281', '2017-06-21', 74.0),\n",
       " ('WAIHEE 837.5, HI US', 'USC00519281', '2017-06-20', 72.0),\n",
       " ('WAIHEE 837.5, HI US', 'USC00519281', '2017-06-19', 72.0),\n",
       " ('WAIHEE 837.5, HI US', 'USC00519281', '2017-06-18', 75.0),\n",
       " ('WAIHEE 837.5, HI US', 'USC00519281', '2017-06-17', 79.0),\n",
       " ('WAIHEE 837.5, HI US', 'USC00519281', '2017-06-16', 73.0),\n",
       " ('WAIHEE 837.5, HI US', 'USC00519281', '2017-06-15', 75.0),\n",
       " ('WAIHEE 837.5, HI US', 'USC00519281', '2017-06-14', 74.0),\n",
       " ('WAIHEE 837.5, HI US', 'USC00519281', '2017-06-13', 76.0),\n",
       " ('WAIHEE 837.5, HI US', 'USC00519281', '2017-06-12', 74.0),\n",
       " ('WAIHEE 837.5, HI US', 'USC00519281', '2017-06-11', 74.0),\n",
       " ('WAIHEE 837.5, HI US', 'USC00519281', '2017-06-10', 74.0),\n",
       " ('WAIHEE 837.5, HI US', 'USC00519281', '2017-06-09', 72.0),\n",
       " ('WAIHEE 837.5, HI US', 'USC00519281', '2017-06-08', 75.0),\n",
       " ('WAIHEE 837.5, HI US', 'USC00519281', '2017-06-07', 75.0),\n",
       " ('WAIHEE 837.5, HI US', 'USC00519281', '2017-06-06', 75.0),\n",
       " ('WAIHEE 837.5, HI US', 'USC00519281', '2017-06-05', 75.0),\n",
       " ('WAIHEE 837.5, HI US', 'USC00519281', '2017-06-04', 77.0),\n",
       " ('WAIHEE 837.5, HI US', 'USC00519281', '2017-06-03', 76.0),\n",
       " ('WAIHEE 837.5, HI US', 'USC00519281', '2017-06-02', 76.0),\n",
       " ('WAIHEE 837.5, HI US', 'USC00519281', '2017-06-01', 80.0),\n",
       " ('WAIHEE 837.5, HI US', 'USC00519281', '2017-05-31', 75.0),\n",
       " ('WAIHEE 837.5, HI US', 'USC00519281', '2017-05-30', 72.0),\n",
       " ('WAIHEE 837.5, HI US', 'USC00519281', '2017-05-29', 74.0),\n",
       " ('WAIHEE 837.5, HI US', 'USC00519281', '2017-05-28', 80.0),\n",
       " ('WAIHEE 837.5, HI US', 'USC00519281', '2017-05-27', 74.0),\n",
       " ('WAIHEE 837.5, HI US', 'USC00519281', '2017-05-26', 74.0),\n",
       " ('WAIHEE 837.5, HI US', 'USC00519281', '2017-05-25', 74.0),\n",
       " ('WAIHEE 837.5, HI US', 'USC00519281', '2017-05-24', 74.0),\n",
       " ('WAIHEE 837.5, HI US', 'USC00519281', '2017-05-23', 71.0),\n",
       " ('WAIHEE 837.5, HI US', 'USC00519281', '2017-05-22', 71.0),\n",
       " ('WAIHEE 837.5, HI US', 'USC00519281', '2017-05-21', 74.0),\n",
       " ('WAIHEE 837.5, HI US', 'USC00519281', '2017-05-20', 76.0),\n",
       " ('WAIHEE 837.5, HI US', 'USC00519281', '2017-05-19', 68.0),\n",
       " ('WAIHEE 837.5, HI US', 'USC00519281', '2017-05-18', 69.0),\n",
       " ('WAIHEE 837.5, HI US', 'USC00519281', '2017-05-17', 74.0),\n",
       " ('WAIHEE 837.5, HI US', 'USC00519281', '2017-05-16', 74.0),\n",
       " ('WAIHEE 837.5, HI US', 'USC00519281', '2017-05-15', 74.0),\n",
       " ('WAIHEE 837.5, HI US', 'USC00519281', '2017-05-14', 77.0),\n",
       " ('WAIHEE 837.5, HI US', 'USC00519281', '2017-05-13', 76.0),\n",
       " ('WAIHEE 837.5, HI US', 'USC00519281', '2017-05-12', 75.0),\n",
       " ('WAIHEE 837.5, HI US', 'USC00519281', '2017-05-11', 70.0),\n",
       " ('WAIHEE 837.5, HI US', 'USC00519281', '2017-05-10', 74.0),\n",
       " ('WAIHEE 837.5, HI US', 'USC00519281', '2017-05-09', 67.0),\n",
       " ('WAIHEE 837.5, HI US', 'USC00519281', '2017-05-08', 70.0),\n",
       " ('WAIHEE 837.5, HI US', 'USC00519281', '2017-05-07', 75.0),\n",
       " ('WAIHEE 837.5, HI US', 'USC00519281', '2017-05-06', 79.0),\n",
       " ('WAIHEE 837.5, HI US', 'USC00519281', '2017-05-05', 70.0),\n",
       " ('WAIHEE 837.5, HI US', 'USC00519281', '2017-05-04', 75.0),\n",
       " ('WAIHEE 837.5, HI US', 'USC00519281', '2017-05-03', 70.0),\n",
       " ('WAIHEE 837.5, HI US', 'USC00519281', '2017-05-02', 75.0),\n",
       " ('WAIHEE 837.5, HI US', 'USC00519281', '2017-05-01', 65.0),\n",
       " ('WAIHEE 837.5, HI US', 'USC00519281', '2017-04-30', 60.0),\n",
       " ('WAIHEE 837.5, HI US', 'USC00519281', '2017-04-29', 72.0),\n",
       " ('WAIHEE 837.5, HI US', 'USC00519281', '2017-04-28', 67.0),\n",
       " ('WAIHEE 837.5, HI US', 'USC00519281', '2017-04-27', 70.0),\n",
       " ('WAIHEE 837.5, HI US', 'USC00519281', '2017-04-26', 74.0),\n",
       " ('WAIHEE 837.5, HI US', 'USC00519281', '2017-04-25', 72.0),\n",
       " ('WAIHEE 837.5, HI US', 'USC00519281', '2017-04-24', 68.0),\n",
       " ('WAIHEE 837.5, HI US', 'USC00519281', '2017-04-23', 76.0),\n",
       " ('WAIHEE 837.5, HI US', 'USC00519281', '2017-04-22', 72.0),\n",
       " ('WAIHEE 837.5, HI US', 'USC00519281', '2017-04-21', 69.0),\n",
       " ('WAIHEE 837.5, HI US', 'USC00519281', '2017-04-20', 76.0),\n",
       " ('WAIHEE 837.5, HI US', 'USC00519281', '2017-04-19', 67.0),\n",
       " ('WAIHEE 837.5, HI US', 'USC00519281', '2017-04-18', 68.0),\n",
       " ('WAIHEE 837.5, HI US', 'USC00519281', '2017-04-17', 67.0),\n",
       " ('WAIHEE 837.5, HI US', 'USC00519281', '2017-04-16', 71.0),\n",
       " ('WAIHEE 837.5, HI US', 'USC00519281', '2017-04-15', 78.0),\n",
       " ('WAIHEE 837.5, HI US', 'USC00519281', '2017-04-14', 74.0),\n",
       " ('WAIHEE 837.5, HI US', 'USC00519281', '2017-04-13', 69.0),\n",
       " ('WAIHEE 837.5, HI US', 'USC00519281', '2017-04-12', 69.0),\n",
       " ('WAIHEE 837.5, HI US', 'USC00519281', '2017-04-11', 70.0),\n",
       " ('WAIHEE 837.5, HI US', 'USC00519281', '2017-04-10', 67.0),\n",
       " ('WAIHEE 837.5, HI US', 'USC00519281', '2017-04-09', 78.0),\n",
       " ('WAIHEE 837.5, HI US', 'USC00519281', '2017-04-08', 77.0),\n",
       " ('WAIHEE 837.5, HI US', 'USC00519281', '2017-04-07', 74.0),\n",
       " ('WAIHEE 837.5, HI US', 'USC00519281', '2017-04-06', 67.0),\n",
       " ('WAIHEE 837.5, HI US', 'USC00519281', '2017-04-05', 71.0),\n",
       " ('WAIHEE 837.5, HI US', 'USC00519281', '2017-04-04', 67.0),\n",
       " ('WAIHEE 837.5, HI US', 'USC00519281', '2017-04-03', 70.0),\n",
       " ('WAIHEE 837.5, HI US', 'USC00519281', '2017-04-02', 75.0),\n",
       " ('WAIHEE 837.5, HI US', 'USC00519281', '2017-04-01', 74.0),\n",
       " ('WAIHEE 837.5, HI US', 'USC00519281', '2017-03-31', 71.0),\n",
       " ('WAIHEE 837.5, HI US', 'USC00519281', '2017-03-30', 73.0),\n",
       " ('WAIHEE 837.5, HI US', 'USC00519281', '2017-03-29', 68.0),\n",
       " ('WAIHEE 837.5, HI US', 'USC00519281', '2017-03-28', 74.0),\n",
       " ('WAIHEE 837.5, HI US', 'USC00519281', '2017-03-27', 76.0),\n",
       " ('WAIHEE 837.5, HI US', 'USC00519281', '2017-03-26', 77.0),\n",
       " ('WAIHEE 837.5, HI US', 'USC00519281', '2017-03-25', 76.0),\n",
       " ('WAIHEE 837.5, HI US', 'USC00519281', '2017-03-24', 71.0),\n",
       " ('WAIHEE 837.5, HI US', 'USC00519281', '2017-03-23', 72.0),\n",
       " ('WAIHEE 837.5, HI US', 'USC00519281', '2017-03-22', 73.0),\n",
       " ('WAIHEE 837.5, HI US', 'USC00519281', '2017-03-21', 72.0),\n",
       " ('WAIHEE 837.5, HI US', 'USC00519281', '2017-03-20', 69.0),\n",
       " ('WAIHEE 837.5, HI US', 'USC00519281', '2017-03-19', 74.0),\n",
       " ('WAIHEE 837.5, HI US', 'USC00519281', '2017-03-18', 65.0),\n",
       " ('WAIHEE 837.5, HI US', 'USC00519281', '2017-03-17', 68.0),\n",
       " ('WAIHEE 837.5, HI US', 'USC00519281', '2017-03-16', 66.0),\n",
       " ('WAIHEE 837.5, HI US', 'USC00519281', '2017-03-15', 69.0),\n",
       " ('WAIHEE 837.5, HI US', 'USC00519281', '2017-03-14', 67.0),\n",
       " ('WAIHEE 837.5, HI US', 'USC00519281', '2017-03-13', 66.0),\n",
       " ('WAIHEE 837.5, HI US', 'USC00519281', '2017-03-12', 69.0),\n",
       " ('WAIHEE 837.5, HI US', 'USC00519281', '2017-03-11', 81.0),\n",
       " ('WAIHEE 837.5, HI US', 'USC00519281', '2017-03-10', 66.0),\n",
       " ('WAIHEE 837.5, HI US', 'USC00519281', '2017-03-09', 67.0),\n",
       " ('WAIHEE 837.5, HI US', 'USC00519281', '2017-03-08', 64.0),\n",
       " ('WAIHEE 837.5, HI US', 'USC00519281', '2017-03-07', 62.0),\n",
       " ('WAIHEE 837.5, HI US', 'USC00519281', '2017-03-06', 67.0),\n",
       " ('WAIHEE 837.5, HI US', 'USC00519281', '2017-03-05', 73.0),\n",
       " ('WAIHEE 837.5, HI US', 'USC00519281', '2017-03-04', 77.0),\n",
       " ('WAIHEE 837.5, HI US', 'USC00519281', '2017-03-03', 72.0),\n",
       " ('WAIHEE 837.5, HI US', 'USC00519281', '2017-03-02', 73.0),\n",
       " ('WAIHEE 837.5, HI US', 'USC00519281', '2017-03-01', 71.0),\n",
       " ('WAIHEE 837.5, HI US', 'USC00519281', '2017-02-28', 72.0),\n",
       " ('WAIHEE 837.5, HI US', 'USC00519281', '2017-02-27', 65.0),\n",
       " ('WAIHEE 837.5, HI US', 'USC00519281', '2017-02-26', 67.0),\n",
       " ('WAIHEE 837.5, HI US', 'USC00519281', '2017-02-25', 61.0),\n",
       " ('WAIHEE 837.5, HI US', 'USC00519281', '2017-02-24', 69.0),\n",
       " ('WAIHEE 837.5, HI US', 'USC00519281', '2017-02-23', 71.0),\n",
       " ('WAIHEE 837.5, HI US', 'USC00519281', '2017-02-22', 71.0),\n",
       " ('WAIHEE 837.5, HI US', 'USC00519281', '2017-02-21', 71.0),\n",
       " ('WAIHEE 837.5, HI US', 'USC00519281', '2017-02-20', 70.0),\n",
       " ('WAIHEE 837.5, HI US', 'USC00519281', '2017-02-19', 70.0),\n",
       " ('WAIHEE 837.5, HI US', 'USC00519281', '2017-02-18', 74.0),\n",
       " ('WAIHEE 837.5, HI US', 'USC00519281', '2017-02-17', 70.0),\n",
       " ('WAIHEE 837.5, HI US', 'USC00519281', '2017-02-16', 65.0),\n",
       " ('WAIHEE 837.5, HI US', 'USC00519281', '2017-02-15', 75.0),\n",
       " ('WAIHEE 837.5, HI US', 'USC00519281', '2017-02-14', 79.0),\n",
       " ('WAIHEE 837.5, HI US', 'USC00519281', '2017-02-13', 73.0),\n",
       " ('WAIHEE 837.5, HI US', 'USC00519281', '2017-02-12', 70.0),\n",
       " ('WAIHEE 837.5, HI US', 'USC00519281', '2017-02-11', 68.0),\n",
       " ('WAIHEE 837.5, HI US', 'USC00519281', '2017-02-10', 62.0),\n",
       " ('WAIHEE 837.5, HI US', 'USC00519281', '2017-02-09', 59.0),\n",
       " ('WAIHEE 837.5, HI US', 'USC00519281', '2017-02-08', 59.0),\n",
       " ('WAIHEE 837.5, HI US', 'USC00519281', '2017-02-07', 64.0),\n",
       " ('WAIHEE 837.5, HI US', 'USC00519281', '2017-02-06', 75.0),\n",
       " ('WAIHEE 837.5, HI US', 'USC00519281', '2017-02-05', 73.0),\n",
       " ('WAIHEE 837.5, HI US', 'USC00519281', '2017-02-04', 70.0),\n",
       " ('WAIHEE 837.5, HI US', 'USC00519281', '2017-02-03', 60.0),\n",
       " ('WAIHEE 837.5, HI US', 'USC00519281', '2017-02-02', 59.0),\n",
       " ('WAIHEE 837.5, HI US', 'USC00519281', '2017-02-01', 68.0),\n",
       " ('WAIHEE 837.5, HI US', 'USC00519281', '2017-01-31', 68.0),\n",
       " ('WAIHEE 837.5, HI US', 'USC00519281', '2017-01-30', 68.0),\n",
       " ('WAIHEE 837.5, HI US', 'USC00519281', '2017-01-29', 69.0),\n",
       " ('WAIHEE 837.5, HI US', 'USC00519281', '2017-01-28', 65.0),\n",
       " ('WAIHEE 837.5, HI US', 'USC00519281', '2017-01-27', 66.0),\n",
       " ('WAIHEE 837.5, HI US', 'USC00519281', '2017-01-26', 70.0),\n",
       " ('WAIHEE 837.5, HI US', 'USC00519281', '2017-01-25', 69.0),\n",
       " ('WAIHEE 837.5, HI US', 'USC00519281', '2017-01-24', 72.0),\n",
       " ('WAIHEE 837.5, HI US', 'USC00519281', '2017-01-23', 72.0),\n",
       " ('WAIHEE 837.5, HI US', 'USC00519281', '2017-01-22', 71.0),\n",
       " ('WAIHEE 837.5, HI US', 'USC00519281', '2017-01-21', 71.0),\n",
       " ('WAIHEE 837.5, HI US', 'USC00519281', '2017-01-20', 69.0),\n",
       " ('WAIHEE 837.5, HI US', 'USC00519281', '2017-01-19', 71.0),\n",
       " ('WAIHEE 837.5, HI US', 'USC00519281', '2017-01-18', 72.0),\n",
       " ('WAIHEE 837.5, HI US', 'USC00519281', '2017-01-17', 69.0),\n",
       " ('WAIHEE 837.5, HI US', 'USC00519281', '2017-01-16', 74.0),\n",
       " ('WAIHEE 837.5, HI US', 'USC00519281', '2017-01-15', 70.0),\n",
       " ('WAIHEE 837.5, HI US', 'USC00519281', '2017-01-14', 77.0),\n",
       " ('WAIHEE 837.5, HI US', 'USC00519281', '2017-01-13', 69.0),\n",
       " ('WAIHEE 837.5, HI US', 'USC00519281', '2017-01-12', 65.0),\n",
       " ('WAIHEE 837.5, HI US', 'USC00519281', '2017-01-11', 63.0),\n",
       " ('WAIHEE 837.5, HI US', 'USC00519281', '2017-01-10', 62.0),\n",
       " ('WAIHEE 837.5, HI US', 'USC00519281', '2017-01-09', 62.0),\n",
       " ('WAIHEE 837.5, HI US', 'USC00519281', '2017-01-08', 70.0),\n",
       " ('WAIHEE 837.5, HI US', 'USC00519281', '2017-01-07', 70.0),\n",
       " ('WAIHEE 837.5, HI US', 'USC00519281', '2017-01-06', 62.0),\n",
       " ('WAIHEE 837.5, HI US', 'USC00519281', '2017-01-05', 63.0),\n",
       " ('WAIHEE 837.5, HI US', 'USC00519281', '2017-01-04', 63.0),\n",
       " ('WAIHEE 837.5, HI US', 'USC00519281', '2017-01-03', 64.0),\n",
       " ('WAIHEE 837.5, HI US', 'USC00519281', '2017-01-02', 70.0),\n",
       " ('WAIHEE 837.5, HI US', 'USC00519281', '2017-01-01', 72.0),\n",
       " ('WAIHEE 837.5, HI US', 'USC00519281', '2016-12-31', 67.0),\n",
       " ('WAIHEE 837.5, HI US', 'USC00519281', '2016-12-30', 69.0),\n",
       " ('WAIHEE 837.5, HI US', 'USC00519281', '2016-12-29', 74.0),\n",
       " ('WAIHEE 837.5, HI US', 'USC00519281', '2016-12-28', 72.0),\n",
       " ('WAIHEE 837.5, HI US', 'USC00519281', '2016-12-27', 71.0),\n",
       " ('WAIHEE 837.5, HI US', 'USC00519281', '2016-12-26', 72.0),\n",
       " ('WAIHEE 837.5, HI US', 'USC00519281', '2016-12-25', 74.0),\n",
       " ('WAIHEE 837.5, HI US', 'USC00519281', '2016-12-24', 74.0),\n",
       " ('WAIHEE 837.5, HI US', 'USC00519281', '2016-12-23', 71.0),\n",
       " ('WAIHEE 837.5, HI US', 'USC00519281', '2016-12-22', 73.0),\n",
       " ('WAIHEE 837.5, HI US', 'USC00519281', '2016-12-21', 74.0),\n",
       " ('WAIHEE 837.5, HI US', 'USC00519281', '2016-12-20', 76.0),\n",
       " ('WAIHEE 837.5, HI US', 'USC00519281', '2016-12-19', 76.0),\n",
       " ('WAIHEE 837.5, HI US', 'USC00519281', '2016-12-18', 69.0),\n",
       " ('WAIHEE 837.5, HI US', 'USC00519281', '2016-12-17', 70.0),\n",
       " ('WAIHEE 837.5, HI US', 'USC00519281', '2016-12-16', 75.0),\n",
       " ('WAIHEE 837.5, HI US', 'USC00519281', '2016-12-15', 62.0),\n",
       " ('WAIHEE 837.5, HI US', 'USC00519281', '2016-12-14', 68.0),\n",
       " ('WAIHEE 837.5, HI US', 'USC00519281', '2016-12-13', 65.0),\n",
       " ('WAIHEE 837.5, HI US', 'USC00519281', '2016-12-12', 66.0),\n",
       " ('WAIHEE 837.5, HI US', 'USC00519281', '2016-12-11', 69.0),\n",
       " ('WAIHEE 837.5, HI US', 'USC00519281', '2016-12-10', 69.0),\n",
       " ('WAIHEE 837.5, HI US', 'USC00519281', '2016-12-09', 68.0),\n",
       " ('WAIHEE 837.5, HI US', 'USC00519281', '2016-12-08', 70.0),\n",
       " ('WAIHEE 837.5, HI US', 'USC00519281', '2016-12-07', 69.0),\n",
       " ('WAIHEE 837.5, HI US', 'USC00519281', '2016-12-06', 67.0),\n",
       " ('WAIHEE 837.5, HI US', 'USC00519281', '2016-12-05', 67.0),\n",
       " ('WAIHEE 837.5, HI US', 'USC00519281', '2016-12-04', 70.0),\n",
       " ('WAIHEE 837.5, HI US', 'USC00519281', '2016-12-03', 72.0),\n",
       " ('WAIHEE 837.5, HI US', 'USC00519281', '2016-12-02', 70.0),\n",
       " ('WAIHEE 837.5, HI US', 'USC00519281', '2016-12-01', 74.0),\n",
       " ('WAIHEE 837.5, HI US', 'USC00519281', '2016-11-30', 73.0),\n",
       " ('WAIHEE 837.5, HI US', 'USC00519281', '2016-11-29', 73.0),\n",
       " ('WAIHEE 837.5, HI US', 'USC00519281', '2016-11-28', 75.0),\n",
       " ('WAIHEE 837.5, HI US', 'USC00519281', '2016-11-27', 73.0),\n",
       " ('WAIHEE 837.5, HI US', 'USC00519281', '2016-11-26', 75.0),\n",
       " ('WAIHEE 837.5, HI US', 'USC00519281', '2016-11-25', 74.0),\n",
       " ('WAIHEE 837.5, HI US', 'USC00519281', '2016-11-24', 75.0),\n",
       " ('WAIHEE 837.5, HI US', 'USC00519281', '2016-11-23', 74.0),\n",
       " ('WAIHEE 837.5, HI US', 'USC00519281', '2016-11-22', 75.0),\n",
       " ('WAIHEE 837.5, HI US', 'USC00519281', '2016-11-21', 73.0),\n",
       " ('WAIHEE 837.5, HI US', 'USC00519281', '2016-11-20', 75.0),\n",
       " ('WAIHEE 837.5, HI US', 'USC00519281', '2016-11-19', 73.0),\n",
       " ('WAIHEE 837.5, HI US', 'USC00519281', '2016-11-18', 75.0),\n",
       " ('WAIHEE 837.5, HI US', 'USC00519281', '2016-11-17', 76.0),\n",
       " ('WAIHEE 837.5, HI US', 'USC00519281', '2016-11-16', 75.0),\n",
       " ('WAIHEE 837.5, HI US', 'USC00519281', '2016-11-15', 76.0),\n",
       " ('WAIHEE 837.5, HI US', 'USC00519281', '2016-11-14', 76.0),\n",
       " ('WAIHEE 837.5, HI US', 'USC00519281', '2016-11-13', 77.0),\n",
       " ('WAIHEE 837.5, HI US', 'USC00519281', '2016-11-12', 74.0),\n",
       " ('WAIHEE 837.5, HI US', 'USC00519281', '2016-11-11', 77.0),\n",
       " ('WAIHEE 837.5, HI US', 'USC00519281', '2016-11-10', 67.0),\n",
       " ('WAIHEE 837.5, HI US', 'USC00519281', '2016-11-09', 68.0),\n",
       " ('WAIHEE 837.5, HI US', 'USC00519281', '2016-11-08', 70.0),\n",
       " ('WAIHEE 837.5, HI US', 'USC00519281', '2016-11-07', 63.0),\n",
       " ('WAIHEE 837.5, HI US', 'USC00519281', '2016-11-06', 71.0),\n",
       " ('WAIHEE 837.5, HI US', 'USC00519281', '2016-11-05', 75.0),\n",
       " ('WAIHEE 837.5, HI US', 'USC00519281', '2016-11-04', 75.0),\n",
       " ('WAIHEE 837.5, HI US', 'USC00519281', '2016-11-03', 75.0),\n",
       " ('WAIHEE 837.5, HI US', 'USC00519281', '2016-11-02', 75.0),\n",
       " ('WAIHEE 837.5, HI US', 'USC00519281', '2016-11-01', 74.0),\n",
       " ('WAIHEE 837.5, HI US', 'USC00519281', '2016-10-31', 76.0),\n",
       " ('WAIHEE 837.5, HI US', 'USC00519281', '2016-10-30', 76.0),\n",
       " ('WAIHEE 837.5, HI US', 'USC00519281', '2016-10-29', 77.0),\n",
       " ('WAIHEE 837.5, HI US', 'USC00519281', '2016-10-28', 74.0),\n",
       " ('WAIHEE 837.5, HI US', 'USC00519281', '2016-10-27', 76.0),\n",
       " ('WAIHEE 837.5, HI US', 'USC00519281', '2016-10-26', 73.0),\n",
       " ('WAIHEE 837.5, HI US', 'USC00519281', '2016-10-25', 76.0),\n",
       " ('WAIHEE 837.5, HI US', 'USC00519281', '2016-10-24', 75.0),\n",
       " ('WAIHEE 837.5, HI US', 'USC00519281', '2016-10-23', 74.0),\n",
       " ('WAIHEE 837.5, HI US', 'USC00519281', '2016-10-22', 77.0),\n",
       " ('WAIHEE 837.5, HI US', 'USC00519281', '2016-10-21', 78.0),\n",
       " ('WAIHEE 837.5, HI US', 'USC00519281', '2016-10-20', 78.0),\n",
       " ('WAIHEE 837.5, HI US', 'USC00519281', '2016-10-19', 78.0),\n",
       " ('WAIHEE 837.5, HI US', 'USC00519281', '2016-10-18', 78.0),\n",
       " ('WAIHEE 837.5, HI US', 'USC00519281', '2016-10-17', 77.0),\n",
       " ('WAIHEE 837.5, HI US', 'USC00519281', '2016-10-16', 79.0),\n",
       " ('WAIHEE 837.5, HI US', 'USC00519281', '2016-10-15', 77.0),\n",
       " ('WAIHEE 837.5, HI US', 'USC00519281', '2016-10-14', 79.0),\n",
       " ('WAIHEE 837.5, HI US', 'USC00519281', '2016-10-13', 78.0),\n",
       " ('WAIHEE 837.5, HI US', 'USC00519281', '2016-10-12', 79.0),\n",
       " ('WAIHEE 837.5, HI US', 'USC00519281', '2016-10-11', 77.0),\n",
       " ('WAIHEE 837.5, HI US', 'USC00519281', '2016-10-10', 71.0),\n",
       " ('WAIHEE 837.5, HI US', 'USC00519281', '2016-10-09', 72.0),\n",
       " ('WAIHEE 837.5, HI US', 'USC00519281', '2016-10-08', 73.0),\n",
       " ('WAIHEE 837.5, HI US', 'USC00519281', '2016-10-07', 76.0),\n",
       " ('WAIHEE 837.5, HI US', 'USC00519281', '2016-10-06', 75.0),\n",
       " ('WAIHEE 837.5, HI US', 'USC00519281', '2016-10-05', 79.0),\n",
       " ('WAIHEE 837.5, HI US', 'USC00519281', '2016-10-04', 79.0),\n",
       " ('WAIHEE 837.5, HI US', 'USC00519281', '2016-10-03', 79.0),\n",
       " ('WAIHEE 837.5, HI US', 'USC00519281', '2016-10-02', 79.0),\n",
       " ('WAIHEE 837.5, HI US', 'USC00519281', '2016-10-01', 77.0),\n",
       " ('WAIHEE 837.5, HI US', 'USC00519281', '2016-09-30', 78.0),\n",
       " ('WAIHEE 837.5, HI US', 'USC00519281', '2016-09-29', 78.0),\n",
       " ('WAIHEE 837.5, HI US', 'USC00519281', '2016-09-28', 78.0),\n",
       " ('WAIHEE 837.5, HI US', 'USC00519281', '2016-09-27', 80.0),\n",
       " ('WAIHEE 837.5, HI US', 'USC00519281', '2016-09-26', 77.0),\n",
       " ('WAIHEE 837.5, HI US', 'USC00519281', '2016-09-25', 79.0),\n",
       " ('WAIHEE 837.5, HI US', 'USC00519281', '2016-09-24', 79.0),\n",
       " ('WAIHEE 837.5, HI US', 'USC00519281', '2016-09-23', 78.0),\n",
       " ('WAIHEE 837.5, HI US', 'USC00519281', '2016-09-22', 77.0),\n",
       " ('WAIHEE 837.5, HI US', 'USC00519281', '2016-09-21', 74.0),\n",
       " ('WAIHEE 837.5, HI US', 'USC00519281', '2016-09-20', 76.0),\n",
       " ('WAIHEE 837.5, HI US', 'USC00519281', '2016-09-19', 78.0),\n",
       " ('WAIHEE 837.5, HI US', 'USC00519281', '2016-09-18', 78.0),\n",
       " ('WAIHEE 837.5, HI US', 'USC00519281', '2016-09-17', 79.0),\n",
       " ('WAIHEE 837.5, HI US', 'USC00519281', '2016-09-16', 78.0),\n",
       " ('WAIHEE 837.5, HI US', 'USC00519281', '2016-09-15', 79.0),\n",
       " ('WAIHEE 837.5, HI US', 'USC00519281', '2016-09-14', 75.0),\n",
       " ('WAIHEE 837.5, HI US', 'USC00519281', '2016-09-13', 79.0),\n",
       " ('WAIHEE 837.5, HI US', 'USC00519281', '2016-09-12', 76.0),\n",
       " ('WAIHEE 837.5, HI US', 'USC00519281', '2016-09-11', 80.0),\n",
       " ('WAIHEE 837.5, HI US', 'USC00519281', '2016-09-10', 77.0),\n",
       " ('WAIHEE 837.5, HI US', 'USC00519281', '2016-09-09', 79.0),\n",
       " ('WAIHEE 837.5, HI US', 'USC00519281', '2016-09-08', 80.0),\n",
       " ('WAIHEE 837.5, HI US', 'USC00519281', '2016-09-07', 74.0),\n",
       " ('WAIHEE 837.5, HI US', 'USC00519281', '2016-09-06', 73.0),\n",
       " ('WAIHEE 837.5, HI US', 'USC00519281', '2016-09-05', 78.0),\n",
       " ('WAIHEE 837.5, HI US', 'USC00519281', '2016-09-04', 78.0),\n",
       " ('WAIHEE 837.5, HI US', 'USC00519281', '2016-09-03', 78.0),\n",
       " ('WAIHEE 837.5, HI US', 'USC00519281', '2016-09-02', 80.0),\n",
       " ('WAIHEE 837.5, HI US', 'USC00519281', '2016-09-01', 80.0),\n",
       " ('WAIHEE 837.5, HI US', 'USC00519281', '2016-08-31', 78.0),\n",
       " ('WAIHEE 837.5, HI US', 'USC00519281', '2016-08-30', 77.0),\n",
       " ('WAIHEE 837.5, HI US', 'USC00519281', '2016-08-29', 78.0),\n",
       " ('WAIHEE 837.5, HI US', 'USC00519281', '2016-08-28', 73.0),\n",
       " ('WAIHEE 837.5, HI US', 'USC00519281', '2016-08-27', 75.0),\n",
       " ('WAIHEE 837.5, HI US', 'USC00519281', '2016-08-26', 80.0),\n",
       " ('WAIHEE 837.5, HI US', 'USC00519281', '2016-08-25', 80.0),\n",
       " ('WAIHEE 837.5, HI US', 'USC00519281', '2016-08-24', 77.0)]"
      ]
     },
     "execution_count": 41,
     "metadata": {},
     "output_type": "execute_result"
    }
   ],
   "source": [
    "   \n",
    "    station_data2=session.query(Station.name, Station.station, Measurement.date, Measurement.tobs).\\\n",
    "    filter(Measurement.station == Station.station).\\\n",
    "    filter(Measurement.station == max_station).\\\n",
    "    filter(Measurement.date > '2016-08-23').\\\n",
    "    filter(Measurement.date < '2017-08-23').\\\n",
    "    order_by(Measurement.date.desc()).all()\n",
    "    station_data2"
   ]
  },
  {
   "cell_type": "code",
   "execution_count": 42,
   "metadata": {},
   "outputs": [
    {
     "data": {
      "text/html": [
       "<div>\n",
       "<style scoped>\n",
       "    .dataframe tbody tr th:only-of-type {\n",
       "        vertical-align: middle;\n",
       "    }\n",
       "\n",
       "    .dataframe tbody tr th {\n",
       "        vertical-align: top;\n",
       "    }\n",
       "\n",
       "    .dataframe thead th {\n",
       "        text-align: right;\n",
       "    }\n",
       "</style>\n",
       "<table border=\"1\" class=\"dataframe\">\n",
       "  <thead>\n",
       "    <tr style=\"text-align: right;\">\n",
       "      <th></th>\n",
       "      <th>index</th>\n",
       "      <th>name</th>\n",
       "      <th>count</th>\n",
       "      <th>mean</th>\n",
       "      <th>min</th>\n",
       "      <th>max</th>\n",
       "      <th>median</th>\n",
       "    </tr>\n",
       "  </thead>\n",
       "  <tbody>\n",
       "    <tr>\n",
       "      <th>0</th>\n",
       "      <td>6</td>\n",
       "      <td>WAIHEE 837.5, HI US</td>\n",
       "      <td>2772</td>\n",
       "      <td>71.663781</td>\n",
       "      <td>54.0</td>\n",
       "      <td>85.0</td>\n",
       "      <td>72.0</td>\n",
       "    </tr>\n",
       "  </tbody>\n",
       "</table>\n",
       "</div>"
      ],
      "text/plain": [
       "   index                 name  count       mean   min   max  median\n",
       "0      6  WAIHEE 837.5, HI US   2772  71.663781  54.0  85.0    72.0"
      ]
     },
     "execution_count": 42,
     "metadata": {},
     "output_type": "execute_result"
    }
   ],
   "source": [
    "# Using the station id from the previous query, calculate the lowest temperature recorded, \n",
    "# highest temperature recorded, and average temperature of the most active station?\n",
    "main_station=station_summary.nlargest(1, 'count').reset_index()\n",
    "main_station"
   ]
  },
  {
   "cell_type": "code",
   "execution_count": 43,
   "metadata": {},
   "outputs": [
    {
     "data": {
      "text/plain": [
       "'WAIHEE 837.5, HI US'"
      ]
     },
     "execution_count": 43,
     "metadata": {},
     "output_type": "execute_result"
    }
   ],
   "source": [
    "# Choose the station with the highest number of temperature observations.\n",
    "# Query the last 12 months of temperature observation data for this station and plot the results as a histogram\n",
    "station_name=main_station.at[0,'name']\n",
    "station_name"
   ]
  },
  {
   "cell_type": "code",
   "execution_count": 44,
   "metadata": {},
   "outputs": [
    {
     "data": {
      "text/plain": [
       "str"
      ]
     },
     "execution_count": 44,
     "metadata": {},
     "output_type": "execute_result"
    }
   ],
   "source": [
    "type(station_name)"
   ]
  },
  {
   "cell_type": "code",
   "execution_count": 45,
   "metadata": {},
   "outputs": [
    {
     "data": {
      "text/html": [
       "<div>\n",
       "<style scoped>\n",
       "    .dataframe tbody tr th:only-of-type {\n",
       "        vertical-align: middle;\n",
       "    }\n",
       "\n",
       "    .dataframe tbody tr th {\n",
       "        vertical-align: top;\n",
       "    }\n",
       "\n",
       "    .dataframe thead th {\n",
       "        text-align: right;\n",
       "    }\n",
       "</style>\n",
       "<table border=\"1\" class=\"dataframe\">\n",
       "  <thead>\n",
       "    <tr style=\"text-align: right;\">\n",
       "      <th></th>\n",
       "      <th>index</th>\n",
       "      <th>name</th>\n",
       "      <th>station</th>\n",
       "      <th>date</th>\n",
       "      <th>tobs</th>\n",
       "    </tr>\n",
       "  </thead>\n",
       "  <tbody>\n",
       "    <tr>\n",
       "      <th>0</th>\n",
       "      <td>20</td>\n",
       "      <td>WAIHEE 837.5, HI US</td>\n",
       "      <td>USC00519281</td>\n",
       "      <td>2017-08-18</td>\n",
       "      <td>79.0</td>\n",
       "    </tr>\n",
       "    <tr>\n",
       "      <th>1</th>\n",
       "      <td>24</td>\n",
       "      <td>WAIHEE 837.5, HI US</td>\n",
       "      <td>USC00519281</td>\n",
       "      <td>2017-08-17</td>\n",
       "      <td>76.0</td>\n",
       "    </tr>\n",
       "    <tr>\n",
       "      <th>2</th>\n",
       "      <td>28</td>\n",
       "      <td>WAIHEE 837.5, HI US</td>\n",
       "      <td>USC00519281</td>\n",
       "      <td>2017-08-16</td>\n",
       "      <td>76.0</td>\n",
       "    </tr>\n",
       "    <tr>\n",
       "      <th>3</th>\n",
       "      <td>33</td>\n",
       "      <td>WAIHEE 837.5, HI US</td>\n",
       "      <td>USC00519281</td>\n",
       "      <td>2017-08-15</td>\n",
       "      <td>77.0</td>\n",
       "    </tr>\n",
       "    <tr>\n",
       "      <th>4</th>\n",
       "      <td>38</td>\n",
       "      <td>WAIHEE 837.5, HI US</td>\n",
       "      <td>USC00519281</td>\n",
       "      <td>2017-08-14</td>\n",
       "      <td>77.0</td>\n",
       "    </tr>\n",
       "    <tr>\n",
       "      <th>...</th>\n",
       "      <td>...</td>\n",
       "      <td>...</td>\n",
       "      <td>...</td>\n",
       "      <td>...</td>\n",
       "      <td>...</td>\n",
       "    </tr>\n",
       "    <tr>\n",
       "      <th>2767</th>\n",
       "      <td>19519</td>\n",
       "      <td>WAIHEE 837.5, HI US</td>\n",
       "      <td>USC00519281</td>\n",
       "      <td>2010-01-05</td>\n",
       "      <td>74.0</td>\n",
       "    </tr>\n",
       "    <tr>\n",
       "      <th>2768</th>\n",
       "      <td>19526</td>\n",
       "      <td>WAIHEE 837.5, HI US</td>\n",
       "      <td>USC00519281</td>\n",
       "      <td>2010-01-04</td>\n",
       "      <td>75.0</td>\n",
       "    </tr>\n",
       "    <tr>\n",
       "      <th>2769</th>\n",
       "      <td>19533</td>\n",
       "      <td>WAIHEE 837.5, HI US</td>\n",
       "      <td>USC00519281</td>\n",
       "      <td>2010-01-03</td>\n",
       "      <td>74.0</td>\n",
       "    </tr>\n",
       "    <tr>\n",
       "      <th>2770</th>\n",
       "      <td>19540</td>\n",
       "      <td>WAIHEE 837.5, HI US</td>\n",
       "      <td>USC00519281</td>\n",
       "      <td>2010-01-02</td>\n",
       "      <td>62.0</td>\n",
       "    </tr>\n",
       "    <tr>\n",
       "      <th>2771</th>\n",
       "      <td>19547</td>\n",
       "      <td>WAIHEE 837.5, HI US</td>\n",
       "      <td>USC00519281</td>\n",
       "      <td>2010-01-01</td>\n",
       "      <td>70.0</td>\n",
       "    </tr>\n",
       "  </tbody>\n",
       "</table>\n",
       "<p>2772 rows × 5 columns</p>\n",
       "</div>"
      ],
      "text/plain": [
       "      index                 name      station        date  tobs\n",
       "0        20  WAIHEE 837.5, HI US  USC00519281  2017-08-18  79.0\n",
       "1        24  WAIHEE 837.5, HI US  USC00519281  2017-08-17  76.0\n",
       "2        28  WAIHEE 837.5, HI US  USC00519281  2017-08-16  76.0\n",
       "3        33  WAIHEE 837.5, HI US  USC00519281  2017-08-15  77.0\n",
       "4        38  WAIHEE 837.5, HI US  USC00519281  2017-08-14  77.0\n",
       "...     ...                  ...          ...         ...   ...\n",
       "2767  19519  WAIHEE 837.5, HI US  USC00519281  2010-01-05  74.0\n",
       "2768  19526  WAIHEE 837.5, HI US  USC00519281  2010-01-04  75.0\n",
       "2769  19533  WAIHEE 837.5, HI US  USC00519281  2010-01-03  74.0\n",
       "2770  19540  WAIHEE 837.5, HI US  USC00519281  2010-01-02  62.0\n",
       "2771  19547  WAIHEE 837.5, HI US  USC00519281  2010-01-01  70.0\n",
       "\n",
       "[2772 rows x 5 columns]"
      ]
     },
     "execution_count": 45,
     "metadata": {},
     "output_type": "execute_result"
    }
   ],
   "source": [
    "tobs_main_station = station_data[station_data.name == station_name]\n",
    "tobs_main_station=tobs_main_station.reset_index()\n",
    "tobs_main_station"
   ]
  },
  {
   "cell_type": "code",
   "execution_count": 46,
   "metadata": {},
   "outputs": [
    {
     "data": {
      "image/png": "[encoded data removed]",
      "text/plain": [
       "<Figure size 1080x720 with 1 Axes>"
      ]
     },
     "metadata": {},
     "output_type": "display_data"
    }
   ],
   "source": [
    "tobs_chart=tobs_main_station.plot.hist(x='date', y='tobs', figsize=(15, 10), bins=12)\n",
    "tobs_chart.get_legend().remove()\n",
    "plt.tight_layout()\n",
    "plt.grid()\n",
    "plt.xticks(rotation=90)\n",
    "plt.title(\"Avg. Temp at Station USC00519281, WAIHEE\")\n",
    "plt.xlabel(\"Degrees Fahrenheit\")\n",
    "plt.ylabel(\"Frequency\")\n",
    "plt.grid()"
   ]
  }
 ],
 "metadata": {
  "kernel_info": {
   "name": "python3"
  },
  "kernelspec": {
   "display_name": "Python 3",
   "language": "python",
   "name": "python3"
  },
  "language_info": {
   "codemirror_mode": {
    "name": "ipython",
    "version": 3
   },
   "file_extension": ".py",
   "mimetype": "text/x-python",
   "name": "python",
   "nbconvert_exporter": "python",
   "pygments_lexer": "ipython3",
   "version": "3.7.6"
  },
  "nteract": {
   "version": "0.12.3"
  },
  "varInspector": {
   "cols": {
    "lenName": 16,
    "lenType": 16,
    "lenVar": 40
   },
   "kernels_config": {
    "python": {
     "delete_cmd_postfix": "",
     "delete_cmd_prefix": "del ",
     "library": "var_list.py",
     "varRefreshCmd": "print(var_dic_list())"
    },
    "r": {
     "delete_cmd_postfix": ") ",
     "delete_cmd_prefix": "rm(",
     "library": "var_list.r",
     "varRefreshCmd": "cat(var_dic_list()) "
    }
   },
   "types_to_exclude": [
    "module",
    "function",
    "builtin_function_or_method",
    "instance",
    "_Feature"
   ],
   "window_display": false
  }
 },
 "nbformat": 4,
 "nbformat_minor": 2
}
